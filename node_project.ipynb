{
 "cells": [
  {
   "cell_type": "code",
   "execution_count": 1,
   "metadata": {},
   "outputs": [
    {
     "name": "stdout",
     "output_type": "stream",
     "text": [
      "c:\\project_YJ\\dev\\projects\\front\\temperary_project\\server\n"
     ]
    }
   ],
   "source": [
    "!mkdir server\n",
    "%cd server\n",
    "!npm init -y\n",
    "!npm install express mongoose body-parser"
   ]
  },
  {
   "cell_type": "code",
   "execution_count": 3,
   "metadata": {},
   "outputs": [],
   "source": [
    "%%writefile \"tsconfig.json\"\n",
    "{\n",
    "  \"compilerOptions\": {\n",
    "    \"target\": \"ES6\",\n",
    "    \"module\": \"commonjs\",\n",
    "    \"outDir\": \"./dist\",\n",
    "    \"rootDir\": \"./src\",\n",
    "    \"strict\": true,\n",
    "    \"esModuleInterop\": true,\n",
    "    \"skipLibCheck\": true,\n",
    "    \"forceConsistentCasingInFileNames\": true\n",
    "  }\n",
    "}\n"
   ]
  },
  {
   "cell_type": "code",
   "execution_count": null,
   "metadata": {},
   "outputs": [],
   "source": [
    "!npm install --save-dev typescript @types/node @types/express @types/body-parser ts-node\n",
    "!mkdir src/config\n",
    "!mkdir src/models\n",
    "!mkdir src/controllers\n",
    "!mkdir src/routes"
   ]
  },
  {
   "cell_type": "code",
   "execution_count": 4,
   "metadata": {
    "vscode": {
     "languageId": "javascript"
    }
   },
   "outputs": [],
   "source": [
    "%%writefile \"src/config/db.ts\"\n",
    "import mongoose from \"mongoose\";\n",
    "\n",
    "const connectDB = async () => {\n",
    "  try {\n",
    "    await mongoose.connect(\"mongodb://localhost:27017/mydatabase\");\n",
    "    console.log(\"MongoDB connected\");\n",
    "  } catch (error) {\n",
    "    console.error(\"MongoDB connection error:\", error);\n",
    "    process.exit(1);\n",
    "  }\n",
    "};\n",
    "\n",
    "export default connectDB;\n"
   ]
  },
  {
   "cell_type": "code",
   "execution_count": 5,
   "metadata": {
    "vscode": {
     "languageId": "javascript"
    }
   },
   "outputs": [],
   "source": [
    "%%writefile \"src/models/User.ts\"\n",
    "import mongoose, { Schema, Document } from \"mongoose\";\n",
    "\n",
    "export interface IUser extends Document {\n",
    "  name: string;\n",
    "  email: string;\n",
    "}\n",
    "\n",
    "const UserSchema: Schema = new Schema({\n",
    "  name: { type: String, required: true },\n",
    "  email: { type: String, required: true },\n",
    "});\n",
    "\n",
    "export default mongoose.model<IUser>(\"User\", UserSchema);\n"
   ]
  },
  {
   "cell_type": "code",
   "execution_count": 8,
   "metadata": {
    "vscode": {
     "languageId": "javascript"
    }
   },
   "outputs": [],
   "source": [
    "%%writefile \"src/routes/userRoutes.ts\"\n",
    "import { Router } from \"express\";\n",
    "import { createUser, getUsers } from \"../controllers/userController\";\n",
    "\n",
    "const router = Router();\n",
    "\n",
    "router.post(\"/users\", createUser);\n",
    "router.get(\"/users\", getUsers);\n",
    "\n",
    "export default router;\n"
   ]
  },
  {
   "cell_type": "code",
   "execution_count": 7,
   "metadata": {
    "vscode": {
     "languageId": "javascript"
    }
   },
   "outputs": [],
   "source": [
    "%%writefile \"src/controllers/userController.ts\"\n",
    "import { Request, Response } from \"express\";\n",
    "import User from \"../models/User\";\n",
    "\n",
    "export const createUser = async (req: Request, res: Response) => {\n",
    "  const { name, email } = req.body;\n",
    "  const newUser = new User({ name, email });\n",
    "\n",
    "  try {\n",
    "    const savedUser = await newUser.save();\n",
    "    res.json(savedUser);\n",
    "  } catch (err) {\n",
    "    res.status(500).send(err);\n",
    "  }\n",
    "};\n",
    "\n",
    "export const getUsers = async (req: Request, res: Response) => {\n",
    "  try {\n",
    "    const users = await User.find();\n",
    "    res.json(users);\n",
    "  } catch (err) {\n",
    "    res.status(500).send(err);\n",
    "  }\n",
    "};\n"
   ]
  },
  {
   "cell_type": "code",
   "execution_count": 9,
   "metadata": {
    "vscode": {
     "languageId": "javascript"
    }
   },
   "outputs": [],
   "source": [
    "%%writefile \"src/index.ts\"\n",
    "import express from \"express\";\n",
    "import bodyParser from \"body-parser\";\n",
    "import path from \"path\";\n",
    "import connectDB from \"./config/db\";\n",
    "import userRoutes from \"./routes/userRoutes\";\n",
    "\n",
    "const app = express();\n",
    "const port = 3000;\n",
    "\n",
    "// MongoDB 연결 설정\n",
    "connectDB();\n",
    "\n",
    "// 미들웨어 설정\n",
    "app.use(bodyParser.json());\n",
    "app.use(express.static(path.join(__dirname, \"../../client/build\")));\n",
    "\n",
    "// API 라우트 설정\n",
    "app.use(\"/api\", userRoutes);\n",
    "\n",
    "// 모든 기타 경로에 대해 React 애플리케이션의 index.html 반환\n",
    "app.get(\"*\", (req, res) => {\n",
    "  res.sendFile(path.join(__dirname, \"../../client/build\", \"index.html\"));\n",
    "});\n",
    "\n",
    "app.listen(port, () => {\n",
    "  console.log(`Server is running at http://localhost:${port}`);\n",
    "});\n"
   ]
  },
  {
   "cell_type": "code",
   "execution_count": 10,
   "metadata": {},
   "outputs": [],
   "source": [
    "%%writefile \"package.json\"\n",
    "{\n",
    "  \"name\": \"server\",\n",
    "  \"version\": \"1.0.0\",\n",
    "  \"main\": \"index.js\",\n",
    "  \"scripts\": {\n",
    "    \"start\": \"ts-node src/index.ts\"\n",
    "  },\n",
    "  \"keywords\": [],\n",
    "  \"author\": \"\",\n",
    "  \"license\": \"ISC\",\n",
    "  \"description\": \"\",\n",
    "  \"dependencies\": {\n",
    "    \"body-parser\": \"^1.20.2\",\n",
    "    \"express\": \"^4.19.2\",\n",
    "    \"mongoose\": \"^8.5.2\"\n",
    "  },\n",
    "  \"devDependencies\": {\n",
    "    \"@types/body-parser\": \"^1.19.5\",\n",
    "    \"@types/express\": \"^4.17.21\",\n",
    "    \"@types/node\": \"^22.0.0\",\n",
    "    \"ts-node\": \"^10.9.2\",\n",
    "    \"typescript\": \"^5.5.4\"\n",
    "  }\n",
    "}\n"
   ]
  },
  {
   "cell_type": "code",
   "execution_count": 12,
   "metadata": {},
   "outputs": [
    {
     "name": "stdout",
     "output_type": "stream",
     "text": [
      "c:\\project_YJ\\dev\\projects\\front\\temperary_project\\client\n"
     ]
    }
   ],
   "source": [
    "%cd ..\n",
    "!npx create-react-app client --template typescript\n",
    "%cd client/"
   ]
  },
  {
   "cell_type": "code",
   "execution_count": 13,
   "metadata": {
    "vscode": {
     "languageId": "javascript"
    }
   },
   "outputs": [],
   "source": [
    "%%writefile \"src/App.tsx\"\n",
    "import React, { useState, useEffect } from 'react';\n",
    "\n",
    "interface IUser {\n",
    "  _id: string;\n",
    "  name: string;\n",
    "  email: string;\n",
    "}\n",
    "\n",
    "const App: React.FC = () => {\n",
    "  const [name, setName] = useState<string>('');\n",
    "  const [email, setEmail] = useState<string>('');\n",
    "  const [users, setUsers] = useState<IUser[]>([]);\n",
    "\n",
    "  const fetchUsers = async () => {\n",
    "    try {\n",
    "      const response = await fetch('/api/users');\n",
    "      const data = await response.json();\n",
    "      setUsers(data);\n",
    "    } catch (error) {\n",
    "      console.error('Error fetching users:', error);\n",
    "    }\n",
    "  };\n",
    "\n",
    "  useEffect(() => {\n",
    "    fetchUsers();\n",
    "  }, []);\n",
    "\n",
    "  const handleSubmit = async (e: React.FormEvent) => {\n",
    "    e.preventDefault();\n",
    "    const newUser = { name, email };\n",
    "\n",
    "    try {\n",
    "      const response = await fetch('/api/users', {\n",
    "        method: 'POST',\n",
    "        headers: {\n",
    "          'Content-Type': 'application/json',\n",
    "        },\n",
    "        body: JSON.stringify(newUser),\n",
    "      });\n",
    "      const data = await response.json();\n",
    "      setUsers([...users, data]);\n",
    "      setName('');\n",
    "      setEmail('');\n",
    "    } catch (error) {\n",
    "      console.error('Error adding user:', error);\n",
    "    }\n",
    "  };\n",
    "\n",
    "  return (\n",
    "    <div>\n",
    "      <h1>User Form</h1>\n",
    "      <form onSubmit={handleSubmit}>\n",
    "        <input\n",
    "          type=\"text\"\n",
    "          placeholder=\"Name\"\n",
    "          value={name}\n",
    "          onChange={(e) => setName(e.target.value)}\n",
    "          required\n",
    "        />\n",
    "        <input\n",
    "          type=\"email\"\n",
    "          placeholder=\"Email\"\n",
    "          value={email}\n",
    "          onChange={(e) => setEmail(e.target.value)}\n",
    "          required\n",
    "        />\n",
    "        <button type=\"submit\">Submit</button>\n",
    "      </form>\n",
    "\n",
    "      <h2>Users</h2>\n",
    "      <ul>\n",
    "        {users.map((user) => (\n",
    "          <li key={user._id}>{user.name} ({user.email})</li>\n",
    "        ))}\n",
    "      </ul>\n",
    "    </div>\n",
    "  );\n",
    "};\n",
    "\n",
    "export default App;\n"
   ]
  },
  {
   "cell_type": "code",
   "execution_count": null,
   "metadata": {},
   "outputs": [],
   "source": [
    "!npm run build\n",
    "%cd .."
   ]
  }
 ],
 "metadata": {
  "kernelspec": {
   "display_name": "base",
   "language": "python",
   "name": "python3"
  },
  "language_info": {
   "codemirror_mode": {
    "name": "ipython",
    "version": 3
   },
   "file_extension": ".py",
   "mimetype": "text/x-python",
   "name": "python",
   "nbconvert_exporter": "python",
   "pygments_lexer": "ipython3",
   "version": "3.12.4"
  }
 },
 "nbformat": 4,
 "nbformat_minor": 2
}
